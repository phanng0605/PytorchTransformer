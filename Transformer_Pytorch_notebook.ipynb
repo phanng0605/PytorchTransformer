{
  "nbformat": 4,
  "nbformat_minor": 0,
  "metadata": {
    "colab": {
      "provenance": [],
      "gpuType": "T4",
      "authorship_tag": "ABX9TyOxpKJJEZ2lQFoxwRLmfeQu",
      "include_colab_link": true
    },
    "kernelspec": {
      "name": "python3",
      "display_name": "Python 3"
    },
    "language_info": {
      "name": "python"
    },
    "accelerator": "GPU"
  },
  "cells": [
    {
      "cell_type": "markdown",
      "metadata": {
        "id": "view-in-github",
        "colab_type": "text"
      },
      "source": [
        "<a href=\"https://colab.research.google.com/github/phanng0605/PytorchTransformer/blob/main/Transformer_Pytorch_notebook.ipynb\" target=\"_parent\"><img src=\"https://colab.research.google.com/assets/colab-badge.svg\" alt=\"Open In Colab\"/></a>"
      ]
    },
    {
      "cell_type": "markdown",
      "source": [
        "#Made by: Phan Nguyen\n",
        "### This is a note book I made to implement the Transformer model from scratch with the Pytorch framework\n",
        "<b>Link to the paper (Attention is all you need): https://arxiv.org/pdf/1706.03762.pdf</b>"
      ],
      "metadata": {
        "id": "BRqKsk_zoRbW"
      }
    },
    {
      "cell_type": "markdown",
      "source": [
        "## 0. Import and install Pytorch"
      ],
      "metadata": {
        "id": "_jGi0tqpofez"
      }
    },
    {
      "cell_type": "code",
      "execution_count": null,
      "metadata": {
        "colab": {
          "base_uri": "https://localhost:8080/"
        },
        "id": "uDU5tvGh_2wp",
        "outputId": "8c6a7f2a-2795-4de9-817d-042cafe92674"
      },
      "outputs": [
        {
          "output_type": "stream",
          "name": "stdout",
          "text": [
            "Looking in indexes: https://pypi.org/simple, https://us-python.pkg.dev/colab-wheels/public/simple/\n",
            "Requirement already satisfied: torch in /usr/local/lib/python3.10/dist-packages (2.0.1+cu118)\n",
            "Requirement already satisfied: filelock in /usr/local/lib/python3.10/dist-packages (from torch) (3.12.0)\n",
            "Requirement already satisfied: typing-extensions in /usr/local/lib/python3.10/dist-packages (from torch) (4.5.0)\n",
            "Requirement already satisfied: sympy in /usr/local/lib/python3.10/dist-packages (from torch) (1.11.1)\n",
            "Requirement already satisfied: networkx in /usr/local/lib/python3.10/dist-packages (from torch) (3.1)\n",
            "Requirement already satisfied: jinja2 in /usr/local/lib/python3.10/dist-packages (from torch) (3.1.2)\n",
            "Requirement already satisfied: triton==2.0.0 in /usr/local/lib/python3.10/dist-packages (from torch) (2.0.0)\n",
            "Requirement already satisfied: cmake in /usr/local/lib/python3.10/dist-packages (from triton==2.0.0->torch) (3.25.2)\n",
            "Requirement already satisfied: lit in /usr/local/lib/python3.10/dist-packages (from triton==2.0.0->torch) (16.0.5)\n",
            "Requirement already satisfied: MarkupSafe>=2.0 in /usr/local/lib/python3.10/dist-packages (from jinja2->torch) (2.1.2)\n",
            "Requirement already satisfied: mpmath>=0.19 in /usr/local/lib/python3.10/dist-packages (from sympy->torch) (1.3.0)\n"
          ]
        }
      ],
      "source": [
        "%pip install torch"
      ]
    },
    {
      "cell_type": "code",
      "source": [
        "import torch\n",
        "import torch.nn as nn"
      ],
      "metadata": {
        "id": "cN1-GFbGoE7W"
      },
      "execution_count": null,
      "outputs": []
    },
    {
      "cell_type": "markdown",
      "source": [
        "## 1. Self Attention"
      ],
      "metadata": {
        "id": "acoZRa6roMwb"
      }
    },
    {
      "cell_type": "code",
      "source": [
        "class SelfAttention(nn.Module):\n",
        "    # this function is to set the parameters that are about to be passed into the forward function\n",
        "    def __init__(self, embed_size, heads):\n",
        "       # create an instance of this class\n",
        "        super(SelfAttention, self).__init__()\n",
        "        self.embed_size = embed_size\n",
        "        self.heads = heads\n",
        "        self.head_dim = embed_size // heads\n",
        "\n",
        "        assert(self.head_dim * heads == embed_size), \"Embedding size must be divisibled by number of heads\"\n",
        "\n",
        "        self.values = nn.Linear(self.head_dim, self.head_dim, bias = False)\n",
        "        self.keys = nn.Linear(self.head_dim, self.head_dim, bias = False)\n",
        "        self.queries = nn.Linear(self.head_dim, self.head_dim, bias = False)\n",
        "\n",
        "        self.fc_out = nn.Linear(heads*self.head_dim, embed_size)\n",
        "\n",
        "    def forward(self, values, keys, queries, mask):\n",
        "        # get number of training examples\n",
        "        N = queries.shape[0]\n",
        "        value_len, key_len, query_len = values.shape[1], keys.shape[1], queries.shape[1]\n",
        "\n",
        "        # split embedding into self.heads pieces\n",
        "        values = values.reshape(N, value_len, self.heads, self.head_dim)\n",
        "        keys = keys.reshape(N, key_len, self.heads, self.head_dim)\n",
        "        queries = queries.reshape(N, query_len, self.heads, self.head_dim)\n",
        "\n",
        "        values = self.values(values)\n",
        "        keys = self.keys(keys)\n",
        "        queries = self.queries(queries)\n",
        "\n",
        "        # matrix multiplication\n",
        "        energy = torch.einsum(\"nqhd, nkhd -> nhqk\",  [queries, keys])\n",
        "\n",
        "        #queries shape = (N, query_len, heads, head_dim)\n",
        "        #keys shape = (N, key_len, heads, head_dim)\n",
        "        #energy shape = (N, heads, query_len, key_len)\n",
        "\n",
        "        if mask is not None:\n",
        "              energy = energy.masked_fill(mask == 0, float(-1e20))\n",
        "\n",
        "        #compute attention\n",
        "        attention = torch.softmax(energy / self.embed_size ** (1/2), dim = 3)\n",
        "\n",
        "        #output\n",
        "        out = torch.einsum(\"nhql, nlhd -> nqhd\", [attention, values]).reshape(N, query_len, self.heads*self.head_dim)\n",
        "        #attention shape = (N, heads, query_len, key_len)\n",
        "        #values shape = (N, value_len, heads, head_dim)\n",
        "        #after einsum, output shape = (N, query_len, heads, head_dim), then we flatten its last two dimension (heads*self.head_dim)\n",
        "\n",
        "        # pass through the fully connected layer\n",
        "        out = self.fc_out(out)\n",
        "        return out"
      ],
      "metadata": {
        "id": "EoOni-croLmb"
      },
      "execution_count": null,
      "outputs": []
    },
    {
      "cell_type": "markdown",
      "source": [
        "## 2. Transformer Block\n",
        "### (To feed in the Encoder)"
      ],
      "metadata": {
        "id": "dFwveIoqLjji"
      }
    },
    {
      "cell_type": "code",
      "source": [
        "class TransformerBlock(nn.Module):\n",
        "    def __init__(self, embed_size, heads, dropout, forward_expansion):\n",
        "        super(TransformerBlock, self).__init__()\n",
        "        self.attention = SelfAttention(embed_size, heads)\n",
        "\n",
        "        #normalization layer\n",
        "        self.norm1 = nn.LayerNorm(embed_size)\n",
        "        self.norm2 = nn.LayerNorm(embed_size)\n",
        "\n",
        "        #feed forward layer include resizing the input size & apply reLU\n",
        "        self.feed_forward = nn.Sequential(\n",
        "              nn.Linear(embed_size, forward_expansion * embed_size),\n",
        "              nn.ReLU(),\n",
        "              nn.Linear(forward_expansion * embed_size, embed_size)\n",
        "        )\n",
        "\n",
        "        self.dropout = nn.Dropout(dropout)\n",
        "\n",
        "    def forward(self, value, key, query, mask):\n",
        "        #call the forward method (since the SelfAttention class has only 1 method)\n",
        "        attention = self.attention(value, key, query, mask)\n",
        "\n",
        "        #Add & Normalize (including skip connection)\n",
        "        x = self.dropout(self.norm1(attention + query))\n",
        "\n",
        "        forward = self.feed_forward(x)\n",
        "\n",
        "        out = self.dropout(self.norm2(x + forward))\n",
        "\n",
        "        return out\n"
      ],
      "metadata": {
        "id": "spLIbc-vHsMw"
      },
      "execution_count": null,
      "outputs": []
    },
    {
      "cell_type": "markdown",
      "source": [
        "## 3. Encoder Implementation"
      ],
      "metadata": {
        "id": "Heq9LWeTBhrZ"
      }
    },
    {
      "cell_type": "code",
      "source": [
        "class Encoder(nn.Module):\n",
        "        def __init__(\n",
        "            self,\n",
        "            src_vocab_size,\n",
        "            embed_size,\n",
        "            num_layers,\n",
        "            heads,\n",
        "            device,\n",
        "            forward_expansion,\n",
        "            dropout,\n",
        "            max_length):\n",
        "\n",
        "            super(Encoder, self).__init__()\n",
        "            self.embed_size = embed_size\n",
        "            self.device = device\n",
        "            self.word_embedding = nn.Embedding(src_vocab_size, embed_size)\n",
        "            self.positional_embedding = nn.Embedding(max_length, embed_size)\n",
        "\n",
        "            self.layers = nn.ModuleList(\n",
        "                  [\n",
        "                        TransformerBlock(\n",
        "                              embed_size,\n",
        "                              heads,\n",
        "                              dropout = dropout,\n",
        "                              forward_expansion = forward_expansion\n",
        "                        )\n",
        "                        for _ in range(num_layers)\n",
        "                  ]\n",
        "            )\n",
        "            self.dropout = nn.Dropout(dropout)\n",
        "\n",
        "        def forward(self, x, mask):\n",
        "            N, seq_length = x.shape\n",
        "            positions = torch.arange(0, seq_length).expand(N, seq_length).to(self.device)\n",
        "\n",
        "            out = self.dropout(self.word_embedding(x) + self.positional_embedding(positions))\n",
        "\n",
        "            for layer in self.layers:\n",
        "                  out = layer(out, out, out, mask)\n",
        "\n",
        "            return out"
      ],
      "metadata": {
        "id": "YQ1O7d23BjjV"
      },
      "execution_count": null,
      "outputs": []
    },
    {
      "cell_type": "markdown",
      "source": [
        "## 4. Decoder Block"
      ],
      "metadata": {
        "id": "eFiTuJl3IVJR"
      }
    },
    {
      "cell_type": "code",
      "source": [
        "# DECODER BLOCK\n",
        "class DecoderBlock(nn.Module):\n",
        "    def __init__(self,\n",
        "                 embed_size,\n",
        "                 heads,\n",
        "                 forward_expansion,\n",
        "                 dropout,\n",
        "                 device):\n",
        "\n",
        "        super(DecoderBlock, self).__init__()\n",
        "        self.attention = SelfAttention(embed_size, heads)\n",
        "        self.norm = nn.LayerNorm(embed_size)\n",
        "        self.transformer_block = TransformerBlock(\n",
        "            embed_size, heads, dropout, forward_expansion)\n",
        "        self.dropout = nn.Dropout(dropout)\n",
        "\n",
        "    def forward(self, x, value, key, src_mask, trg_mask):\n",
        "        # masked self attention\n",
        "        attention = self.attention(x, x, x, trg_mask)\n",
        "        query = self.dropout(self.norm(attention + x))\n",
        "\n",
        "        # passing this query, value, key to a whole transformer block\n",
        "        # forward(self, value, key, query, mask):\n",
        "        out = self.transformer_block(value, key, query, src_mask)\n",
        "        return out"
      ],
      "metadata": {
        "id": "vhKCqBtLIWJO"
      },
      "execution_count": null,
      "outputs": []
    },
    {
      "cell_type": "markdown",
      "source": [
        "## 5. Decoder Implementation\n"
      ],
      "metadata": {
        "id": "ngccbCCHzLq9"
      }
    },
    {
      "cell_type": "code",
      "source": [
        "# DECODER IMPLEMENTATION\n",
        "class Decoder(nn.Module):\n",
        "    def __init__(self,\n",
        "                 trg_vocab_size,\n",
        "                 embed_size,\n",
        "                 num_layers,\n",
        "                 heads,\n",
        "                 forward_expansion,\n",
        "                 dropout,\n",
        "                 device,\n",
        "                 max_length):\n",
        "        super(Decoder, self).__init__()\n",
        "        self.device = device\n",
        "        self.word_embedding = nn.Embedding(trg_vocab_size, embed_size)\n",
        "        self.positional_embedding = nn.Embedding(max_length, embed_size)\n",
        "\n",
        "        self.layers = nn.ModuleList(\n",
        "            [\n",
        "                DecoderBlock(\n",
        "                    embed_size,\n",
        "                    heads,\n",
        "                    forward_expansion=forward_expansion,\n",
        "                    dropout=dropout,\n",
        "                    device=device\n",
        "                ) for _ in range(num_layers)\n",
        "            ]\n",
        "        )\n",
        "\n",
        "        self.fc_out = nn.Linear(embed_size, trg_vocab_size)\n",
        "        self.dropout = nn.Dropout(dropout)\n",
        "\n",
        "    def forward(self, x, enc_out, src_mask, trg_mask):\n",
        "        N, seq_length = x.shape\n",
        "        positions = torch.arange(0, seq_length).expand(\n",
        "            N, seq_length).to(self.device)\n",
        "\n",
        "        # add positional encoding\n",
        "        x = self.dropout(self.word_embedding(\n",
        "            x) + self.positional_embedding(positions))\n",
        "\n",
        "        # N decoder blocks\n",
        "        for layer in self.layers:\n",
        "            x = layer(x, enc_out, enc_out, src_mask, trg_mask)\n",
        "\n",
        "        out = self.fc_out(x)\n",
        "        return out"
      ],
      "metadata": {
        "id": "kN3JTmdVzRxL"
      },
      "execution_count": null,
      "outputs": []
    },
    {
      "cell_type": "markdown",
      "source": [
        "## 6. Transformer Combination"
      ],
      "metadata": {
        "id": "JNsGUcU3zcsR"
      }
    },
    {
      "cell_type": "code",
      "source": [
        "# COMBINE TO GET FULL TRANSFORMER\n",
        "class Transformer(nn.Module):\n",
        "    def __init__(self,\n",
        "                 src_vocab_size,\n",
        "                 trg_vocab_size,\n",
        "                 src_pad_idx,\n",
        "                 trg_pad_idx,\n",
        "                 embed_size=256,\n",
        "                 num_layers=6,\n",
        "                 forward_expansion=4,\n",
        "                 heads=8,\n",
        "                 dropout=0,\n",
        "                 device='cuda',\n",
        "                 max_length=100):\n",
        "        super(Transformer, self).__init__()\n",
        "        # call Encoder\n",
        "        self.device = device\n",
        "        self.encoder = Encoder(src_vocab_size,\n",
        "                               embed_size,\n",
        "                               num_layers,\n",
        "                               heads,\n",
        "                               device,\n",
        "                               forward_expansion,\n",
        "                               dropout,\n",
        "                               max_length)\n",
        "\n",
        "        # call Decoder\n",
        "        self.decoder = Decoder(trg_vocab_size,\n",
        "                               embed_size,\n",
        "                               num_layers,\n",
        "                               heads,\n",
        "                               forward_expansion,\n",
        "                               dropout,\n",
        "                               device,\n",
        "                               max_length)\n",
        "\n",
        "        self.src_pad_idx = src_pad_idx\n",
        "        self.trg_pad_idx = trg_pad_idx\n",
        "\n",
        "    def make_src_mask(self, src):\n",
        "        src_mask = (src != self.src_pad_idx).unsqueeze(1).unsqueeze(2)\n",
        "        return src_mask.to(self.device)\n",
        "\n",
        "    def make_trg_mask(self, trg):\n",
        "        N, trg_len = trg.shape\n",
        "        trg_mask = torch.tril(torch.ones((trg_len, trg_len))\n",
        "                              ).expand(N, 1, trg_len, trg_len)\n",
        "        return trg_mask.to(self.device)\n",
        "\n",
        "    def forward(self, src, trg):\n",
        "        src_mask = self.make_src_mask(src)\n",
        "        trg_mask = self.make_trg_mask(trg)\n",
        "        enc_src = self.encoder(src, src_mask)\n",
        "        out = self.decoder(trg, enc_src, src_mask, trg_mask)\n",
        "        return out"
      ],
      "metadata": {
        "id": "NXag2K8izg3f"
      },
      "execution_count": null,
      "outputs": []
    },
    {
      "cell_type": "markdown",
      "source": [
        "## 7. Main (To test the implementation)"
      ],
      "metadata": {
        "id": "LnDLgqXHzjXn"
      }
    },
    {
      "cell_type": "code",
      "source": [
        "if __name__ == \"__main__\":\n",
        "    device = torch.device(\"cuda\" if torch.cuda.is_available() else \"cpu\")\n",
        "    print(device)\n",
        "\n",
        "    x = torch.tensor([[1, 5, 6, 4, 3, 9, 5, 2, 0], [1, 8, 7, 3, 4, 5, 6, 7, 2]]).to(\n",
        "        device\n",
        "    )\n",
        "    trg = torch.tensor([[1, 7, 4, 3, 5, 9, 2, 0], [1, 5, 6, 2, 4, 7, 6, 2]]).to(device)\n",
        "\n",
        "    src_pad_idx = 0\n",
        "    trg_pad_idx = 0\n",
        "    src_vocab_size = 10\n",
        "    trg_vocab_size = 10\n",
        "    model = Transformer(src_vocab_size, trg_vocab_size, src_pad_idx, trg_pad_idx, device=device).to(\n",
        "        device\n",
        "    )\n",
        "    out = model(x, trg[:, :-1])\n",
        "    print(out.shape)"
      ],
      "metadata": {
        "colab": {
          "base_uri": "https://localhost:8080/"
        },
        "id": "nficY5j5zi5D",
        "outputId": "9539f771-dff6-4a36-d6ef-e4847311e992"
      },
      "execution_count": null,
      "outputs": [
        {
          "output_type": "stream",
          "name": "stdout",
          "text": [
            "cuda\n",
            "torch.Size([2, 7, 10])\n"
          ]
        }
      ]
    }
  ]
}